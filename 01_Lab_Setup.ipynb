{
 "cells": [
  {
   "cell_type": "markdown",
   "metadata": {
    "deletable": false,
    "editable": false
   },
   "source": [
    "# Lab Requirements and Setup\n",
    "\n",
    "This lab consists of several Jupyter notebooks and runs in Gitpod using VS Code.  Follow the instructions for requirements and setup.\n",
    "\n",
    "## About Jupyter notebooks\n",
    "A notebook consists of one or more cells. In VS Code, notebooks cells are editable. \n",
    "\n",
    "There are two types of cells: markdown and code. This is a markdown cell.\n",
    "\n",
    "You run a code cell by simply selecting the play icon in the cell's left gutter. For code cells, you can modify the code for execution. Certain labs contain challenges or experiments that require you to do just that - modify a code cell and re-run it!\n",
    "\n",
    "### Requirements\n",
    "Here are the requirements for this lab:\n",
    "- Launch using a gitpod workspace\n",
    "- Run a three node, YugabyteDB cluster using `yb-ctl`\n",
    "\n",
    "> Note\n",
    ">  \n",
    "> Although a three node cluster is up and running, Gitpod does not support visiting loopback addresses over a web ui, even if exposed on a different port.\n",
    "> 127.0.0.1 is the only web user interfaces. To see all available ports in Gitpod, in the terminal, run `gp ports list`."
   ]
  },
  {
   "cell_type": "markdown",
   "metadata": {
    "deletable": false,
    "editable": false
   },
   "source": [
    "#### Notebook keyboard shortcuts\n",
    "The Jupyter extension for Gitpod supports the following keyboard shortcuts:\n",
    "| Keystroke | Description |\n",
    "|--|--|\n",
    "| ESC | Change the cell mode |\n",
    "| A | Add a cell above |\n",
    "| B | Add a cell below |\n",
    "| J or down arrow key |  Change a cell to below | \n",
    "| K or up arrow key | Change a cell to above | \n",
    "| Ctrl+Enter | Run the currently selected cell |\n",
    "| Shift+Enter | Run the currently selected cell and insert a new cell immediately below (focus moves to new cell) |\n",
    "| Alt+Enter | Run the currently selected cell and insert a new cell immediately below (focus remains on current cell) |\n",
    "| dd | Delete a selected cell |\n",
    "| z | Undo the last change | \n",
    "| M | switch the cell type to Markdown | \n",
    "| Y | switch the cell type to code |\n",
    "| L | Enable/Disable line numbers |\n",
    "```\n"
   ]
  },
  {
   "cell_type": "markdown",
   "metadata": {
    "deletable": false,
    "editable": false
   },
   "source": [
    "## Setup steps\n",
    "Here are the steps to setup this lab:\n",
    "- Install missing dependencies and restart the notebook\n",
    "- Create the notebook variables\n",
    "- Create the `db_ybu` database"
   ]
  },
  {
   "cell_type": "markdown",
   "metadata": {},
   "source": [
    "### Install missing dependencies and restart the notebook\n",
    "Run the following cell to ensure that the notebook dependencies are available to the notebook. "
   ]
  },
  {
   "cell_type": "code",
   "execution_count": null,
   "metadata": {},
   "outputs": [],
   "source": [
    "!pip install ipython-sql\n",
    "!pip install psycopg2-binary\n",
    "!pip install sqlalchemy"
   ]
  },
  {
   "cell_type": "markdown",
   "metadata": {},
   "source": [
    "> Important!\n",
    "> \n",
    "> Restart the Notebook.\n",
    "> \n",
    "> Do NOT skip this step.\n",
    "> \n",
    "> After restarting the notebook, you can continue running notebook cells below, at **Create the notebook variables**.\n"
   ]
  },
  {
   "cell_type": "markdown",
   "metadata": {
    "deletable": false,
    "editable": false
   },
   "source": [
    "### Create the notebook variables \n",
    "\n",
    "> IMPORTANT!\n",
    "> \n",
    "> Do NOT skip running this cell. \n",
    "> \n",
    "\n",
    "The following Python cell creates and stores variables that all the notebooks in this lab will use. You can view these variables in the Jupyter tab.\n",
    "\n",
    "- To run the script, select Execute Cell (Play Arrow) in the left gutter of the cell.\n",
    "- Verify the accuracy of the output values"
   ]
  },
  {
   "cell_type": "code",
   "execution_count": null,
   "metadata": {
    "deletable": false,
    "editable": false
   },
   "outputs": [],
   "source": [
    "# Env variables for Notebook\n",
    "import os\n",
    "\n",
    "# read env_vars.env\n",
    "env_vars = !cat env_vars.env\n",
    "for var in env_vars:\n",
    "    key, value = var.split('=')\n",
    "    os.environ[key] = value\n",
    " \n",
    "\n",
    "# Comment out Local\n",
    "MY_YB_PATH=os.environ.get('MY_YB_PATH_LOCAL')\n",
    "MY_GITPOD_WORKSPACE_URL=os.environ.get('MY_GITPOD_WORKSPACE_URL_LOCAL')\n",
    "\n",
    "# Gitpod specific\n",
    "# MY_YB_PATH=os.environ.get('MY_YB_PATH')\n",
    "# MY_GITPOD_WORKSPACE_URL=os.environ.get('GITPOD_WORKSPACE_URL')\n",
    "\n",
    "# env_vars defines the following\n",
    "MY_DB_NAME=os.environ.get('MY_DB_NAME')\n",
    "MY_HOST_IPv4_01=os.environ.get('MY_HOST_IPv4_01')\n",
    "MY_HOST_IPv4_02=os.environ.get('MY_HOST_IPv4_02')\n",
    "MY_HOST_IPv4_03=os.environ.get('MY_HOST_IPv4_03')\n",
    "MY_TSERVER_WEBSERVER_PORT=os.environ.get('MY_TSERVER_WEBSERVER_PORT')\n",
    "MY_DATA_DDL_FILE=os.environ.get(\"MY_DATA_DDL_FILE\")\n",
    "MY_DATA_DML_FILE=os.environ.get(\"MY_DATA_DML_FILE\")\n",
    "MY_UTIL_FUNCTIONS_FILE=os.environ.get(\"MY_UTIL_FUNCTIONS_FILE\")\n",
    "MY_UTIL_YBTSERVER_METRICS_FILE=os.environ.get(\"MY_UTIL_YBTSERVER_METRICS_FILE\")\n",
    "\n",
    "# Current directory of project and related child folders\n",
    "MY_NOTEBOOK_DIR=os.getcwd()\n",
    "MY_NOTEBOOK_DATA_FOLDER=MY_NOTEBOOK_DIR +'/data'\n",
    "MY_NOTEBOOK_UTILS_FOLDER=MY_NOTEBOOK_DIR + '/utils'\n",
    "\n",
    "# Store the note book values for other notebooks to use\n",
    "\n",
    "%store MY_DB_NAME\n",
    "%store MY_YB_PATH\n",
    "%store MY_GITPOD_WORKSPACE_URL\n",
    "%store MY_HOST_IPv4_01\n",
    "%store MY_HOST_IPv4_02\n",
    "%store MY_HOST_IPv4_03\n",
    "%store MY_NOTEBOOK_DIR\n",
    "%store MY_TSERVER_WEBSERVER_PORT\n",
    "%store MY_NOTEBOOK_DATA_FOLDER\n",
    "%store MY_NOTEBOOK_UTILS_FOLDER\n",
    "%store MY_DATA_DDL_FILE\n",
    "%store MY_DATA_DML_FILE\n",
    "%store MY_UTIL_FUNCTIONS_FILE\n",
    "%store MY_UTIL_YBTSERVER_METRICS_FILE"
   ]
  },
  {
   "cell_type": "markdown",
   "metadata": {
    "deletable": false,
    "editable": false
   },
   "source": [
    "### Create the `db_ybu` database with `ysqlsh`\n",
    "Run the following cell to connect to the local host using `ysqlsh`, create the `db_ybu` database, and then list the databases."
   ]
  },
  {
   "cell_type": "code",
   "execution_count": null,
   "metadata": {
    "vscode": {
     "languageId": "shellscript"
    }
   },
   "outputs": [],
   "source": [
    "%%bash -s \"$MY_YB_PATH\" \"$MY_DB_NAME\"  # create database\n",
    "YB_PATH=${1}\n",
    "DB_NAME=${2}\n",
    "\n",
    "cd $YB_PATH\n",
    "\n",
    "# drop and create\n",
    "./bin/ysqlsh -d yugabyte -c \"drop database if exists \"${DB_NAME}\";\"  \n",
    "./bin/ysqlsh -d yugabyte -c \"create database \"${DB_NAME}\";\" \n",
    "\n",
    "# list dbs\n",
    "./bin/ysqlsh -d yugabyte -c \"\\l\""
   ]
  },
  {
   "cell_type": "markdown",
   "metadata": {
    "deletable": false,
    "editable": false
   },
   "source": [
    "### Create Utils\n",
    "For illustration purposes, this lab requires specific user defined functions and objects for the following:\n",
    "- Functions for converting hash range strings to integers\n",
    "- YB-TServer metrics"
   ]
  },
  {
   "cell_type": "markdown",
   "metadata": {
    "deletable": false,
    "editable": false
   },
   "source": [
    "#### Util Functions\n",
    "Runt the following cell to create the utility functions."
   ]
  },
  {
   "cell_type": "code",
   "execution_count": null,
   "metadata": {
    "vscode": {
     "languageId": "shellscript"
    }
   },
   "outputs": [],
   "source": [
    "%%bash -s \"$MY_YB_PATH\" \"$MY_DB_NAME\" \"$MY_NOTEBOOK_UTILS_FOLDER\" \"$MY_UTIL_FUNCTIONS_FILE\"  # util functions\n",
    "YB_PATH=${1}\n",
    "DB_NAME=${2}\n",
    "UTILS_FOLDER=${3}\n",
    "UTIL_FUNCTIONS_FILE=${4}\n",
    "\n",
    "\n",
    "#ls $UTIL_FOLDER\n",
    "UTIL_FUNCTIONS_FILE_PATH=${UTILS_FOLDER}/${UTIL_FUNCTIONS_FILE}\n",
    "\n",
    "cd $YB_PATH\n",
    "\n",
    "# Functions file\n",
    "./bin/ysqlsh -q -d ${DB_NAME} -f ${UTIL_FUNCTIONS_FILE_PATH} \n",
    "sleep 1;\n",
    "\n",
    "# Describe functions\n",
    "./bin/ysqlsh -d ${DB_NAME} -c \"\\df\""
   ]
  },
  {
   "cell_type": "markdown",
   "metadata": {
    "deletable": false,
    "editable": false
   },
   "source": [
    "#### Util Metrics\n",
    "Run the following cell to create the utility functions for the metrics report."
   ]
  },
  {
   "cell_type": "code",
   "execution_count": null,
   "metadata": {
    "vscode": {
     "languageId": "shellscript"
    }
   },
   "outputs": [],
   "source": [
    "%%bash -s \"$MY_YB_PATH\" \"$MY_DB_NAME\" \"$MY_NOTEBOOK_UTILS_FOLDER\" \"$MY_UTIL_YBTSERVER_METRICS_FILE\"  # utl metrics\n",
    "YB_PATH=${1}\n",
    "DB_NAME=${2}\n",
    "UTILS_FOLDER=${3}\n",
    "UTIL_YBTSERVER_METRICS_FILE=${4}\n",
    "\n",
    "#ls $UTIL_FOLDER\n",
    "\n",
    "UTIL_YBTSERVER_METRICS_FILE=${UTILS_FOLDER}/${UTIL_YBTSERVER_METRICS_FILE}\n",
    "\n",
    "cd $YB_PATH\n",
    "\n",
    "# Metrics file\n",
    "./bin/ysqlsh -d ${DB_NAME} -f ${UTIL_YBTSERVER_METRICS_FILE}\n",
    "# >&/dev/null\n",
    "\n",
    "# Describe relations\n",
    "./bin/ysqlsh -d ${DB_NAME} -c \"\\df\""
   ]
  },
  {
   "cell_type": "markdown",
   "metadata": {
    "deletable": false,
    "editable": false
   },
   "source": [
    "### Create tables and loaded data using DDL and DML scripts\n",
    "In this section of the notebook, you will:\n",
    "- Create tables with a DDL script\n",
    "- Load data with a DML script\n",
    "- Verify the creation of tables and data\n",
    "- View the DDL for tbl_countries"
   ]
  },
  {
   "cell_type": "markdown",
   "metadata": {
    "deletable": false,
    "editable": false
   },
   "source": [
    "##### Create tables, load data, and review relations\n",
    "Run the following cell to execute the DDL and DML scripts using `ysqlsh`."
   ]
  },
  {
   "cell_type": "code",
   "execution_count": null,
   "metadata": {
    "vscode": {
     "languageId": "shellscript"
    }
   },
   "outputs": [],
   "source": [
    "%%bash -s \"$MY_YB_PATH\" \"$MY_DB_NAME\" \"$MY_NOTEBOOK_DATA_FOLDER\" \"$MY_DATA_DDL_FILE\" \"$MY_DATA_DML_FILE\"   # World Cities\n",
    "YB_PATH=${1}\n",
    "DB_NAME=${2}\n",
    "DATA_FOLDER=${3}\n",
    "DATA_DDL_FILE=${4}\n",
    "DATA_DML_FILE=${5}\n",
    "\n",
    "WORLD_DDL_PATH=${DATA_FOLDER}/${DATA_DDL_FILE}\n",
    "WORLD_DML_PATH=${DATA_FOLDER}/${DATA_DML_FILE}\n",
    "\n",
    "cd $YB_PATH\n",
    "\n",
    "# DDL file\n",
    "./bin/ysqlsh -d ${DB_NAME} -f ${WORLD_DDL_PATH} >&/dev/null\n",
    "sleep 1;\n",
    "\n",
    "# DML file\n",
    "./bin/ysqlsh -d ${DB_NAME} -f ${WORLD_DML_PATH} >&/dev/null\n",
    "sleep 1;\n",
    "\n",
    "# Describe relations\n",
    "./bin/ysqlsh -d ${DB_NAME} -c \"\\d\""
   ]
  },
  {
   "cell_type": "markdown",
   "metadata": {
    "deletable": false,
    "editable": false
   },
   "source": [
    "##### View DDL for tbl_countries\n",
    "Run the following cell using `ysqlsh` to view a table definition.\n",
    "\n",
    "> Note\n",
    "> \n",
    "> SQL magic does not support PostgreSQL `psql` commands. In order to execute `psql` commands, the notebook uses bash and `ysqlsh`.\n",
    "\n"
   ]
  },
  {
   "cell_type": "code",
   "execution_count": null,
   "metadata": {
    "vscode": {
     "languageId": "shellscript"
    }
   },
   "outputs": [],
   "source": [
    "%%bash -s \"$MY_YB_PATH\" \"$MY_DB_NAME\"  # \\d tbl_countriees\n",
    "\n",
    "YB_PATH=${1}\n",
    "DB_NAME=${2}\n",
    "\n",
    "cd $YB_PATH\n",
    "\n",
    "\n",
    "./bin/ysqlsh -d ${DB_NAME} -c \"\\d tbl_countries\"\n",
    "#./bin/ysqlsh -d ${DBNAME} -c \"\\d tbl_countries\"\n",
    "#./bin/ysqlsh -d ${DBNAME} -c \"\\d tbl_states\"\n"
   ]
  },
  {
   "cell_type": "markdown",
   "metadata": {
    "deletable": false,
    "editable": false
   },
   "source": [
    "## Connect to YugabyteDB using the PostgreSQL Driver for Python\n",
    "The following cells requires:\n",
    "- Python 3.8+ and psycopg2"
   ]
  },
  {
   "cell_type": "code",
   "execution_count": null,
   "metadata": {
    "deletable": false,
    "editable": false
   },
   "outputs": [],
   "source": [
    "# Connect to db_ybu\n",
    "# Inspiration from https://medium.com/analytics-vidhya/postgresql-integration-with-jupyter-notebook-deb97579a38d\n",
    "import psycopg2\n",
    "import sqlalchemy as alc\n",
    "from sqlalchemy import create_engine\n",
    "\n",
    "# env_var.env\n",
    "db_host=MY_HOST_IPv4_01\n",
    "db_name=MY_DB_NAME\n",
    "\n",
    "connection_str='postgresql+psycopg2://yugabyte@'+db_host+':5433/'+db_name\n",
    "\n",
    "# engine = create_engine(connection_str)"
   ]
  },
  {
   "cell_type": "markdown",
   "metadata": {
    "deletable": false,
    "editable": false
   },
   "source": [
    "#### Load SQL magic extension\n",
    ">IMPORTANT!\n",
    ">\n",
    "> To use SQL magic, you must run the following cell that loads the notebook extension."
   ]
  },
  {
   "cell_type": "code",
   "execution_count": null,
   "metadata": {},
   "outputs": [],
   "source": [
    "%reload_ext sql\n",
    "# creates connection for sql magic\n",
    "%sql {connection_str}"
   ]
  },
  {
   "cell_type": "markdown",
   "metadata": {
    "deletable": false,
    "editable": false
   },
   "source": [
    "#### Show table row counts\n",
    "Run the cell below to view the row counts for the tables."
   ]
  },
  {
   "cell_type": "code",
   "execution_count": null,
   "metadata": {
    "vscode": {
     "languageId": "sql"
    }
   },
   "outputs": [],
   "source": [
    "%%sql /* row counts */\n",
    "\n",
    "select '' _\n",
    "    , v1.name\n",
    "    , v1.counts\n",
    "from (\n",
    "    select 'tbl_cities' as name, count(*) as counts from tbl_cities\n",
    "    union \n",
    "    select 'tbl_cities_name_alt_null' as name, count(*) \n",
    "    from tbl_cities\n",
    "    where 1=1\n",
    "    and city_name_alt IS NULL\n",
    "    union\n",
    "    select 'tbl_states' as name,count(*) from tbl_states\n",
    "    union \n",
    "    select 'tbl_countries' as name, count(*) from tbl_countries\n",
    "    union\n",
    "    select 'tbl_country_name_alt_null' as name, count(*) \n",
    "    from tbl_countries \n",
    "    where 1=1\n",
    "    and country_name_alt IS NULL\n",
    "    ) v1\n",
    "order by v1.counts desc;"
   ]
  },
  {
   "cell_type": "markdown",
   "metadata": {
    "deletable": false,
    "editable": false
   },
   "source": [
    "---\n",
    "# All done!\n",
    "In this lab, you completed the following:\n",
    "\n",
    "- Setup\n",
    "  - Created the `db_ybu` database with `ysqlsh`\n",
    "  - Created utils\n",
    "  - Created tables and loaded data using DDL and DML scripts\n",
    "  - Connected to the database using a PostgreSQL driver for Python\n",
    "\n",
    "Next, run the following cell to open `02_Demystifying_table_sharding_tablets_and_data_distribution.ipynb`."
   ]
  },
  {
   "cell_type": "code",
   "execution_count": null,
   "metadata": {
    "vscode": {
     "languageId": "shellscript"
    }
   },
   "outputs": [],
   "source": [
    "%%bash\n",
    "gp open 02_Demystifying_table_sharding_tablets_and_data_distribution.ipynb"
   ]
  }
 ],
 "metadata": {
  "kernelspec": {
   "display_name": "Python 3.9.4 64-bit ('3.9.4': pyenv)",
   "language": "python",
   "name": "python3"
  },
  "language_info": {
   "codemirror_mode": {
    "name": "ipython",
    "version": 3
   },
   "file_extension": ".py",
   "mimetype": "text/x-python",
   "name": "python",
   "nbconvert_exporter": "python",
   "pygments_lexer": "ipython3",
   "version": "3.9.4"
  },
  "orig_nbformat": 4,
  "vscode": {
   "interpreter": {
    "hash": "0857ffcb80af2fb548f76c195b67e2e5b75e102946b97bbf401092901016b64a"
   }
  }
 },
 "nbformat": 4,
 "nbformat_minor": 2
}
